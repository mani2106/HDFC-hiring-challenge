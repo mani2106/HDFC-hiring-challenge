{
  "nbformat": 4,
  "nbformat_minor": 0,
  "metadata": {
    "colab": {
      "name": "HDFC Banking scorecard EDA.ipynb",
      "provenance": [],
      "collapsed_sections": [
        "ZbcG_b7DIiN-",
        "fNnS_s_qNTYn",
        "4j6ZgF4iamCd",
        "K2uvpardgNv8",
        "TkINjiCrgbwy",
        "TCldIUGfgnLZ",
        "f1l9K4segwgN",
        "6sVPBddbg7Hy",
        "_TipFEFVhCdo"
      ]
    },
    "kernelspec": {
      "name": "python3",
      "display_name": "Python 3"
    }
  },
  "cells": [
    {
      "cell_type": "markdown",
      "metadata": {
        "id": "ZbcG_b7DIiN-",
        "colab_type": "text"
      },
      "source": [
        "### Prepare storage and get Data"
      ]
    },
    {
      "cell_type": "code",
      "metadata": {
        "id": "9mmOya4ZIMkR",
        "colab_type": "code",
        "outputId": "9646da8e-44ea-472f-e69f-8b16085eb08d",
        "colab": {
          "base_uri": "https://localhost:8080/",
          "height": 346
        }
      },
      "source": [
        "!wget -O data.zip http://hck.re/TT3Xkb"
      ],
      "execution_count": 0,
      "outputs": [
        {
          "output_type": "stream",
          "text": [
            "--2019-09-29 06:43:55--  http://hck.re/TT3Xkb\n",
            "Resolving hck.re (hck.re)... 52.220.222.195, 54.169.54.236, 13.250.79.191\n",
            "Connecting to hck.re (hck.re)|52.220.222.195|:80... connected.\n",
            "HTTP request sent, awaiting response... 301 Moved Permanently\n",
            "Cookie coming from hck.re attempted to set domain to hackerearth.com\n",
            "Cookie coming from hck.re attempted to set domain to hackerearth.com\n",
            "Cookie coming from hck.re attempted to set domain to hackerearth.com\n",
            "Location: https://he-s3.s3.amazonaws.com/media/hackathon/hdfc-bank-ml-hiring-challenge-2019/banking-behavioral-scorecard-for-internal-liability-customers-4caf1786/d407ebe0db9a11e9.zip [following]\n",
            "--2019-09-29 06:43:56--  https://he-s3.s3.amazonaws.com/media/hackathon/hdfc-bank-ml-hiring-challenge-2019/banking-behavioral-scorecard-for-internal-liability-customers-4caf1786/d407ebe0db9a11e9.zip\n",
            "Resolving he-s3.s3.amazonaws.com (he-s3.s3.amazonaws.com)... 52.219.36.112\n",
            "Connecting to he-s3.s3.amazonaws.com (he-s3.s3.amazonaws.com)|52.219.36.112|:443... connected.\n",
            "HTTP request sent, awaiting response... 200 OK\n",
            "Length: 52184897 (50M) [application/zip]\n",
            "Saving to: ‘data.zip’\n",
            "\n",
            "data.zip            100%[===================>]  49.77M  13.0MB/s    in 4.4s    \n",
            "\n",
            "2019-09-29 06:44:01 (11.3 MB/s) - ‘data.zip’ saved [52184897/52184897]\n",
            "\n"
          ],
          "name": "stdout"
        }
      ]
    },
    {
      "cell_type": "code",
      "metadata": {
        "id": "rQEca-9NI6eW",
        "colab_type": "code",
        "outputId": "a4c5a2af-e1af-44c5-d42a-c1344b35d74e",
        "colab": {
          "base_uri": "https://localhost:8080/",
          "height": 98
        }
      },
      "source": [
        "!unzip data.zip"
      ],
      "execution_count": 0,
      "outputs": [
        {
          "output_type": "stream",
          "text": [
            "Archive:  data.zip\n",
            "   creating: DataSet/\n",
            "  inflating: DataSet/Train.csv       \n",
            "  inflating: DataSet/Sample_submission.csv  \n",
            "  inflating: DataSet/Test.csv        \n"
          ],
          "name": "stdout"
        }
      ]
    },
    {
      "cell_type": "markdown",
      "metadata": {
        "id": "D43ORn-mPxF3",
        "colab_type": "text"
      },
      "source": [
        "### Understanding the Problem statement"
      ]
    },
    {
      "cell_type": "markdown",
      "metadata": {
        "id": "ZWbseIMvP2Sm",
        "colab_type": "text"
      },
      "source": [
        "Referring to the competition description \n",
        "\n",
        "``The definition that is used for the target variable is every 30+ or X+ days delinquent twice in forward  12 months.``\n",
        "\n",
        "This problem is detailed in this [article](https://www.analyticsindiamag.com/banking-analytics-basics-developing-customer-level-behaviour-scorecard/)\n",
        "\n",
        "If I understand correctly the target variable predicts the number of times that the particular customer will become delinquent (i.e). Fails to pay his dues in the period mentioned. for the **30** or **X days** in the period of 12 months."
      ]
    },
    {
      "cell_type": "markdown",
      "metadata": {
        "id": "2kZFkWtzJ6Wv",
        "colab_type": "text"
      },
      "source": [
        "###Import Libraries"
      ]
    },
    {
      "cell_type": "code",
      "metadata": {
        "id": "rHT6WaunKRKw",
        "colab_type": "code",
        "colab": {}
      },
      "source": [
        "import pandas as pd\n",
        "from tqdm import tqdm_notebook\n",
        "from pathlib import Path"
      ],
      "execution_count": 0,
      "outputs": []
    },
    {
      "cell_type": "markdown",
      "metadata": {
        "id": "ARNkY9uCKd4L",
        "colab_type": "text"
      },
      "source": [
        "### Read data"
      ]
    },
    {
      "cell_type": "code",
      "metadata": {
        "id": "GLBRT2plKgtV",
        "colab_type": "code",
        "colab": {}
      },
      "source": [
        "DATA_PATH = Path('DataSet')"
      ],
      "execution_count": 0,
      "outputs": []
    },
    {
      "cell_type": "code",
      "metadata": {
        "id": "IqwOgj3ZK3Ez",
        "colab_type": "code",
        "outputId": "388ffe56-9b6f-400e-deaa-89dbc3a89c4e",
        "colab": {
          "base_uri": "https://localhost:8080/",
          "height": 243
        }
      },
      "source": [
        "train_data = pd.read_csv(DATA_PATH/'Train.csv')\n",
        "train_data.head()"
      ],
      "execution_count": 0,
      "outputs": [
        {
          "output_type": "stream",
          "text": [
            "/usr/local/lib/python3.6/dist-packages/IPython/core/interactiveshell.py:2718: DtypeWarning: Columns (746,835) have mixed types. Specify dtype option on import or set low_memory=False.\n",
            "  interactivity=interactivity, compiler=compiler, result=result)\n"
          ],
          "name": "stderr"
        },
        {
          "output_type": "execute_result",
          "data": {
            "text/html": [
              "<div>\n",
              "<style scoped>\n",
              "    .dataframe tbody tr th:only-of-type {\n",
              "        vertical-align: middle;\n",
              "    }\n",
              "\n",
              "    .dataframe tbody tr th {\n",
              "        vertical-align: top;\n",
              "    }\n",
              "\n",
              "    .dataframe thead th {\n",
              "        text-align: right;\n",
              "    }\n",
              "</style>\n",
              "<table border=\"1\" class=\"dataframe\">\n",
              "  <thead>\n",
              "    <tr style=\"text-align: right;\">\n",
              "      <th></th>\n",
              "      <th>Col1</th>\n",
              "      <th>Col2</th>\n",
              "      <th>Col3</th>\n",
              "      <th>Col4</th>\n",
              "      <th>Col5</th>\n",
              "      <th>Col6</th>\n",
              "      <th>Col7</th>\n",
              "      <th>Col8</th>\n",
              "      <th>Col9</th>\n",
              "      <th>Col10</th>\n",
              "      <th>Col11</th>\n",
              "      <th>Col12</th>\n",
              "      <th>Col13</th>\n",
              "      <th>Col14</th>\n",
              "      <th>Col15</th>\n",
              "      <th>Col16</th>\n",
              "      <th>Col17</th>\n",
              "      <th>Col18</th>\n",
              "      <th>Col19</th>\n",
              "      <th>Col20</th>\n",
              "      <th>Col21</th>\n",
              "      <th>Col22</th>\n",
              "      <th>Col23</th>\n",
              "      <th>Col24</th>\n",
              "      <th>Col25</th>\n",
              "      <th>Col26</th>\n",
              "      <th>Col27</th>\n",
              "      <th>Col28</th>\n",
              "      <th>Col29</th>\n",
              "      <th>Col30</th>\n",
              "      <th>Col31</th>\n",
              "      <th>Col32</th>\n",
              "      <th>Col33</th>\n",
              "      <th>Col34</th>\n",
              "      <th>Col35</th>\n",
              "      <th>Col36</th>\n",
              "      <th>Col37</th>\n",
              "      <th>Col38</th>\n",
              "      <th>Col39</th>\n",
              "      <th>Col40</th>\n",
              "      <th>...</th>\n",
              "      <th>Col2358</th>\n",
              "      <th>Col2359</th>\n",
              "      <th>Col2360</th>\n",
              "      <th>Col2361</th>\n",
              "      <th>Col2362</th>\n",
              "      <th>Col2363</th>\n",
              "      <th>Col2364</th>\n",
              "      <th>Col2365</th>\n",
              "      <th>Col2366</th>\n",
              "      <th>Col2367</th>\n",
              "      <th>Col2368</th>\n",
              "      <th>Col2369</th>\n",
              "      <th>Col2370</th>\n",
              "      <th>Col2371</th>\n",
              "      <th>Col2372</th>\n",
              "      <th>Col2373</th>\n",
              "      <th>Col2374</th>\n",
              "      <th>Col2375</th>\n",
              "      <th>Col2376</th>\n",
              "      <th>Col2377</th>\n",
              "      <th>Col2378</th>\n",
              "      <th>Col2379</th>\n",
              "      <th>Col2380</th>\n",
              "      <th>Col2381</th>\n",
              "      <th>Col2382</th>\n",
              "      <th>Col2383</th>\n",
              "      <th>Col2384</th>\n",
              "      <th>Col2385</th>\n",
              "      <th>Col2386</th>\n",
              "      <th>Col2387</th>\n",
              "      <th>Col2388</th>\n",
              "      <th>Col2389</th>\n",
              "      <th>Col2390</th>\n",
              "      <th>Col2391</th>\n",
              "      <th>Col2392</th>\n",
              "      <th>Col2393</th>\n",
              "      <th>Col2394</th>\n",
              "      <th>Col2395</th>\n",
              "      <th>Col2396</th>\n",
              "      <th>Col2397</th>\n",
              "    </tr>\n",
              "  </thead>\n",
              "  <tbody>\n",
              "    <tr>\n",
              "      <th>0</th>\n",
              "      <td>RIGHGSN</td>\n",
              "      <td>1</td>\n",
              "      <td>1.086711e+04</td>\n",
              "      <td>8.648345e+03</td>\n",
              "      <td>1.576618e+04</td>\n",
              "      <td>2.890466e+04</td>\n",
              "      <td>5.273655e+03</td>\n",
              "      <td>2.346153e+04</td>\n",
              "      <td>1.285597e+04</td>\n",
              "      <td>2.871509e+04</td>\n",
              "      <td>9.114586e+03</td>\n",
              "      <td>3.043078e+04</td>\n",
              "      <td>9.293496</td>\n",
              "      <td>8.570479</td>\n",
              "      <td>10.063117</td>\n",
              "      <td>10.271758</td>\n",
              "      <td>0.548538</td>\n",
              "      <td>0.403366</td>\n",
              "      <td>NaN</td>\n",
              "      <td>NaN</td>\n",
              "      <td>1.486524</td>\n",
              "      <td>1.728324</td>\n",
              "      <td>0.993441</td>\n",
              "      <td>1.297050</td>\n",
              "      <td>0.137398</td>\n",
              "      <td>0.115987</td>\n",
              "      <td>0.260428</td>\n",
              "      <td>1.414214</td>\n",
              "      <td>1</td>\n",
              "      <td>1</td>\n",
              "      <td>1</td>\n",
              "      <td>1</td>\n",
              "      <td>1</td>\n",
              "      <td>1</td>\n",
              "      <td>0</td>\n",
              "      <td>6</td>\n",
              "      <td>NaN</td>\n",
              "      <td>NaN</td>\n",
              "      <td>NaN</td>\n",
              "      <td>NaN</td>\n",
              "      <td>...</td>\n",
              "      <td>0</td>\n",
              "      <td>0</td>\n",
              "      <td>0</td>\n",
              "      <td>0</td>\n",
              "      <td>0</td>\n",
              "      <td>0</td>\n",
              "      <td>0</td>\n",
              "      <td>0</td>\n",
              "      <td>0</td>\n",
              "      <td>0</td>\n",
              "      <td>0</td>\n",
              "      <td>0</td>\n",
              "      <td>0</td>\n",
              "      <td>0</td>\n",
              "      <td>0</td>\n",
              "      <td>0</td>\n",
              "      <td>0</td>\n",
              "      <td>0</td>\n",
              "      <td>0</td>\n",
              "      <td>0</td>\n",
              "      <td>0</td>\n",
              "      <td>0</td>\n",
              "      <td>0</td>\n",
              "      <td>0</td>\n",
              "      <td>0</td>\n",
              "      <td>0</td>\n",
              "      <td>0</td>\n",
              "      <td>0</td>\n",
              "      <td>0</td>\n",
              "      <td>0</td>\n",
              "      <td>0</td>\n",
              "      <td>1</td>\n",
              "      <td>0</td>\n",
              "      <td>1</td>\n",
              "      <td>214.0</td>\n",
              "      <td>214.0</td>\n",
              "      <td>68.0</td>\n",
              "      <td>22.0</td>\n",
              "      <td>22.0</td>\n",
              "      <td>7.0</td>\n",
              "    </tr>\n",
              "    <tr>\n",
              "      <th>1</th>\n",
              "      <td>RIMHI5ZGP</td>\n",
              "      <td>0</td>\n",
              "      <td>2.584312e+05</td>\n",
              "      <td>2.179633e+05</td>\n",
              "      <td>1.866287e+05</td>\n",
              "      <td>1.866287e+05</td>\n",
              "      <td>2.154519e+05</td>\n",
              "      <td>1.923615e+05</td>\n",
              "      <td>1.726538e+05</td>\n",
              "      <td>1.666974e+05</td>\n",
              "      <td>2.013518e+05</td>\n",
              "      <td>1.859404e+05</td>\n",
              "      <td>12.462385</td>\n",
              "      <td>12.280493</td>\n",
              "      <td>12.167132</td>\n",
              "      <td>12.136876</td>\n",
              "      <td>1.167898</td>\n",
              "      <td>2.676398</td>\n",
              "      <td>NaN</td>\n",
              "      <td>NaN</td>\n",
              "      <td>0.792123</td>\n",
              "      <td>0.934556</td>\n",
              "      <td>0.893203</td>\n",
              "      <td>0.966620</td>\n",
              "      <td>0.753892</td>\n",
              "      <td>0.808295</td>\n",
              "      <td>1.414214</td>\n",
              "      <td>NaN</td>\n",
              "      <td>1</td>\n",
              "      <td>1</td>\n",
              "      <td>3</td>\n",
              "      <td>4</td>\n",
              "      <td>4</td>\n",
              "      <td>0</td>\n",
              "      <td>4</td>\n",
              "      <td>5</td>\n",
              "      <td>NaN</td>\n",
              "      <td>NaN</td>\n",
              "      <td>NaN</td>\n",
              "      <td>NaN</td>\n",
              "      <td>...</td>\n",
              "      <td>0</td>\n",
              "      <td>0</td>\n",
              "      <td>0</td>\n",
              "      <td>0</td>\n",
              "      <td>0</td>\n",
              "      <td>0</td>\n",
              "      <td>0</td>\n",
              "      <td>0</td>\n",
              "      <td>0</td>\n",
              "      <td>0</td>\n",
              "      <td>0</td>\n",
              "      <td>0</td>\n",
              "      <td>0</td>\n",
              "      <td>1</td>\n",
              "      <td>0</td>\n",
              "      <td>0</td>\n",
              "      <td>0</td>\n",
              "      <td>0</td>\n",
              "      <td>0</td>\n",
              "      <td>0</td>\n",
              "      <td>0</td>\n",
              "      <td>0</td>\n",
              "      <td>0</td>\n",
              "      <td>0</td>\n",
              "      <td>0</td>\n",
              "      <td>0</td>\n",
              "      <td>0</td>\n",
              "      <td>0</td>\n",
              "      <td>0</td>\n",
              "      <td>0</td>\n",
              "      <td>0</td>\n",
              "      <td>0</td>\n",
              "      <td>0</td>\n",
              "      <td>0</td>\n",
              "      <td>41.0</td>\n",
              "      <td>41.0</td>\n",
              "      <td>38.0</td>\n",
              "      <td>12.0</td>\n",
              "      <td>12.0</td>\n",
              "      <td>11.0</td>\n",
              "    </tr>\n",
              "    <tr>\n",
              "      <th>2</th>\n",
              "      <td>RIHOG1SZU</td>\n",
              "      <td>0</td>\n",
              "      <td>1.459355e+07</td>\n",
              "      <td>1.260060e+07</td>\n",
              "      <td>1.100315e+07</td>\n",
              "      <td>1.010315e+07</td>\n",
              "      <td>1.879882e+07</td>\n",
              "      <td>1.514035e+07</td>\n",
              "      <td>5.320778e+06</td>\n",
              "      <td>6.906324e+06</td>\n",
              "      <td>9.368338e+06</td>\n",
              "      <td>1.113330e+07</td>\n",
              "      <td>16.496090</td>\n",
              "      <td>16.749305</td>\n",
              "      <td>16.532874</td>\n",
              "      <td>16.128357</td>\n",
              "      <td>1.145182</td>\n",
              "      <td>2.203874</td>\n",
              "      <td>NaN</td>\n",
              "      <td>NaN</td>\n",
              "      <td>0.422264</td>\n",
              "      <td>0.498347</td>\n",
              "      <td>0.683582</td>\n",
              "      <td>0.735339</td>\n",
              "      <td>0.808115</td>\n",
              "      <td>0.776910</td>\n",
              "      <td>1.414214</td>\n",
              "      <td>NaN</td>\n",
              "      <td>3</td>\n",
              "      <td>3</td>\n",
              "      <td>4</td>\n",
              "      <td>12</td>\n",
              "      <td>4</td>\n",
              "      <td>0</td>\n",
              "      <td>2</td>\n",
              "      <td>4</td>\n",
              "      <td>NaN</td>\n",
              "      <td>1.0</td>\n",
              "      <td>NaN</td>\n",
              "      <td>NaN</td>\n",
              "      <td>...</td>\n",
              "      <td>1</td>\n",
              "      <td>0</td>\n",
              "      <td>1</td>\n",
              "      <td>0</td>\n",
              "      <td>1</td>\n",
              "      <td>0</td>\n",
              "      <td>0</td>\n",
              "      <td>0</td>\n",
              "      <td>0</td>\n",
              "      <td>0</td>\n",
              "      <td>2</td>\n",
              "      <td>0</td>\n",
              "      <td>1</td>\n",
              "      <td>1</td>\n",
              "      <td>0</td>\n",
              "      <td>0</td>\n",
              "      <td>0</td>\n",
              "      <td>0</td>\n",
              "      <td>0</td>\n",
              "      <td>0</td>\n",
              "      <td>2</td>\n",
              "      <td>0</td>\n",
              "      <td>0</td>\n",
              "      <td>0</td>\n",
              "      <td>0</td>\n",
              "      <td>0</td>\n",
              "      <td>0</td>\n",
              "      <td>0</td>\n",
              "      <td>0</td>\n",
              "      <td>0</td>\n",
              "      <td>0</td>\n",
              "      <td>1</td>\n",
              "      <td>1</td>\n",
              "      <td>0</td>\n",
              "      <td>378.0</td>\n",
              "      <td>378.0</td>\n",
              "      <td>310.0</td>\n",
              "      <td>21.0</td>\n",
              "      <td>21.0</td>\n",
              "      <td>16.0</td>\n",
              "    </tr>\n",
              "    <tr>\n",
              "      <th>3</th>\n",
              "      <td>RIHOLMQWU</td>\n",
              "      <td>0</td>\n",
              "      <td>6.727043e+05</td>\n",
              "      <td>8.181116e+05</td>\n",
              "      <td>6.794893e+05</td>\n",
              "      <td>6.794893e+05</td>\n",
              "      <td>8.257254e+05</td>\n",
              "      <td>7.605803e+05</td>\n",
              "      <td>3.577134e+05</td>\n",
              "      <td>4.236612e+05</td>\n",
              "      <td>4.304848e+05</td>\n",
              "      <td>4.065539e+05</td>\n",
              "      <td>13.419061</td>\n",
              "      <td>13.624018</td>\n",
              "      <td>13.541837</td>\n",
              "      <td>13.429097</td>\n",
              "      <td>1.204010</td>\n",
              "      <td>0.536304</td>\n",
              "      <td>NaN</td>\n",
              "      <td>NaN</td>\n",
              "      <td>0.437243</td>\n",
              "      <td>0.521341</td>\n",
              "      <td>0.623499</td>\n",
              "      <td>0.534531</td>\n",
              "      <td>-0.125829</td>\n",
              "      <td>0.388830</td>\n",
              "      <td>-1.414214</td>\n",
              "      <td>NaN</td>\n",
              "      <td>2</td>\n",
              "      <td>2</td>\n",
              "      <td>2</td>\n",
              "      <td>24</td>\n",
              "      <td>1</td>\n",
              "      <td>0</td>\n",
              "      <td>1</td>\n",
              "      <td>4</td>\n",
              "      <td>NaN</td>\n",
              "      <td>NaN</td>\n",
              "      <td>NaN</td>\n",
              "      <td>NaN</td>\n",
              "      <td>...</td>\n",
              "      <td>0</td>\n",
              "      <td>0</td>\n",
              "      <td>0</td>\n",
              "      <td>0</td>\n",
              "      <td>0</td>\n",
              "      <td>0</td>\n",
              "      <td>0</td>\n",
              "      <td>0</td>\n",
              "      <td>0</td>\n",
              "      <td>1</td>\n",
              "      <td>2</td>\n",
              "      <td>0</td>\n",
              "      <td>1</td>\n",
              "      <td>2</td>\n",
              "      <td>0</td>\n",
              "      <td>0</td>\n",
              "      <td>0</td>\n",
              "      <td>0</td>\n",
              "      <td>0</td>\n",
              "      <td>1</td>\n",
              "      <td>2</td>\n",
              "      <td>0</td>\n",
              "      <td>0</td>\n",
              "      <td>0</td>\n",
              "      <td>0</td>\n",
              "      <td>0</td>\n",
              "      <td>1</td>\n",
              "      <td>2</td>\n",
              "      <td>0</td>\n",
              "      <td>0</td>\n",
              "      <td>0</td>\n",
              "      <td>0</td>\n",
              "      <td>0</td>\n",
              "      <td>0</td>\n",
              "      <td>702.0</td>\n",
              "      <td>702.0</td>\n",
              "      <td>644.0</td>\n",
              "      <td>951.0</td>\n",
              "      <td>951.0</td>\n",
              "      <td>743.0</td>\n",
              "    </tr>\n",
              "    <tr>\n",
              "      <th>4</th>\n",
              "      <td>RIHO584ET</td>\n",
              "      <td>0</td>\n",
              "      <td>-1.218742e+06</td>\n",
              "      <td>-3.005361e+06</td>\n",
              "      <td>-1.666241e+05</td>\n",
              "      <td>-2.403574e+06</td>\n",
              "      <td>2.583183e+06</td>\n",
              "      <td>2.086546e+06</td>\n",
              "      <td>5.938358e+06</td>\n",
              "      <td>5.446532e+06</td>\n",
              "      <td>3.473444e+06</td>\n",
              "      <td>3.262168e+06</td>\n",
              "      <td>NaN</td>\n",
              "      <td>14.764533</td>\n",
              "      <td>14.551021</td>\n",
              "      <td>NaN</td>\n",
              "      <td>NaN</td>\n",
              "      <td>NaN</td>\n",
              "      <td>NaN</td>\n",
              "      <td>NaN</td>\n",
              "      <td>NaN</td>\n",
              "      <td>1.344637</td>\n",
              "      <td>NaN</td>\n",
              "      <td>1.563430</td>\n",
              "      <td>-0.113101</td>\n",
              "      <td>0.617486</td>\n",
              "      <td>1.414214</td>\n",
              "      <td>NaN</td>\n",
              "      <td>4</td>\n",
              "      <td>3</td>\n",
              "      <td>4</td>\n",
              "      <td>68</td>\n",
              "      <td>8</td>\n",
              "      <td>0</td>\n",
              "      <td>2</td>\n",
              "      <td>4</td>\n",
              "      <td>NaN</td>\n",
              "      <td>3.0</td>\n",
              "      <td>NaN</td>\n",
              "      <td>NaN</td>\n",
              "      <td>...</td>\n",
              "      <td>0</td>\n",
              "      <td>0</td>\n",
              "      <td>0</td>\n",
              "      <td>0</td>\n",
              "      <td>0</td>\n",
              "      <td>0</td>\n",
              "      <td>2</td>\n",
              "      <td>1</td>\n",
              "      <td>0</td>\n",
              "      <td>0</td>\n",
              "      <td>0</td>\n",
              "      <td>0</td>\n",
              "      <td>2</td>\n",
              "      <td>1</td>\n",
              "      <td>2</td>\n",
              "      <td>1</td>\n",
              "      <td>0</td>\n",
              "      <td>0</td>\n",
              "      <td>0</td>\n",
              "      <td>0</td>\n",
              "      <td>0</td>\n",
              "      <td>0</td>\n",
              "      <td>0</td>\n",
              "      <td>0</td>\n",
              "      <td>0</td>\n",
              "      <td>0</td>\n",
              "      <td>0</td>\n",
              "      <td>0</td>\n",
              "      <td>2</td>\n",
              "      <td>0</td>\n",
              "      <td>0</td>\n",
              "      <td>0</td>\n",
              "      <td>0</td>\n",
              "      <td>0</td>\n",
              "      <td>1305.0</td>\n",
              "      <td>1305.0</td>\n",
              "      <td>1211.0</td>\n",
              "      <td>2205.0</td>\n",
              "      <td>2205.0</td>\n",
              "      <td>1831.0</td>\n",
              "    </tr>\n",
              "  </tbody>\n",
              "</table>\n",
              "</div>"
            ],
            "text/plain": [
              "        Col1  Col2          Col3   ...     Col2395  Col2396  Col2397\n",
              "0    RIGHGSN     1  1.086711e+04   ...        22.0     22.0      7.0\n",
              "1  RIMHI5ZGP     0  2.584312e+05   ...        12.0     12.0     11.0\n",
              "2  RIHOG1SZU     0  1.459355e+07   ...        21.0     21.0     16.0\n",
              "3  RIHOLMQWU     0  6.727043e+05   ...       951.0    951.0    743.0\n",
              "4  RIHO584ET     0 -1.218742e+06   ...      2205.0   2205.0   1831.0\n",
              "\n",
              "[5 rows x 2395 columns]"
            ]
          },
          "metadata": {
            "tags": []
          },
          "execution_count": 3
        }
      ]
    },
    {
      "cell_type": "code",
      "metadata": {
        "id": "9_iFDwZqjY37",
        "colab_type": "code",
        "outputId": "c841bb5f-d693-4b05-8f21-da62c4054bdc",
        "colab": {
          "base_uri": "https://localhost:8080/",
          "height": 70
        }
      },
      "source": [
        "test_data = pd.read_csv(DATA_PATH/'Test.csv')"
      ],
      "execution_count": 0,
      "outputs": [
        {
          "output_type": "stream",
          "text": [
            "/usr/local/lib/python3.6/dist-packages/IPython/core/interactiveshell.py:2718: DtypeWarning: Columns (700,731,740,752,761,789,811,820,829,841,850) have mixed types. Specify dtype option on import or set low_memory=False.\n",
            "  interactivity=interactivity, compiler=compiler, result=result)\n"
          ],
          "name": "stderr"
        }
      ]
    },
    {
      "cell_type": "markdown",
      "metadata": {
        "id": "o4e29of7SFHv",
        "colab_type": "text"
      },
      "source": [
        "### Check Target Classes"
      ]
    },
    {
      "cell_type": "code",
      "metadata": {
        "id": "QBKqvMa6R9Pj",
        "colab_type": "code",
        "outputId": "7e8dc332-7e02-4c4e-de83-fec3fdcbbdca",
        "colab": {
          "base_uri": "https://localhost:8080/",
          "height": 293
        }
      },
      "source": [
        "train_data.Col2.value_counts().plot.bar(title='Target Class Distribution')"
      ],
      "execution_count": 0,
      "outputs": [
        {
          "output_type": "execute_result",
          "data": {
            "text/plain": [
              "<matplotlib.axes._subplots.AxesSubplot at 0x7f9a8dc7b198>"
            ]
          },
          "metadata": {
            "tags": []
          },
          "execution_count": 5
        },
        {
          "output_type": "display_data",
          "data": {
            "image/png": "[encoded data removed]",
            "text/plain": [
              "<matplotlib.figure.Figure at 0x7f9a8e6c39e8>"
            ]
          },
          "metadata": {
            "tags": []
          }
        }
      ]
    },
    {
      "cell_type": "markdown",
      "metadata": {
        "id": "YXgBk7JSLSo9",
        "colab_type": "text"
      },
      "source": [
        "### Check data"
      ]
    },
    {
      "cell_type": "code",
      "metadata": {
        "id": "4KaRYUVgL2eH",
        "colab_type": "code",
        "outputId": "2dd7e5b7-bb84-492d-a13e-bc704e24f1e9",
        "colab": {
          "base_uri": "https://localhost:8080/",
          "height": 33
        }
      },
      "source": [
        "train_data.shape"
      ],
      "execution_count": 0,
      "outputs": [
        {
          "output_type": "execute_result",
          "data": {
            "text/plain": [
              "(17521, 2395)"
            ]
          },
          "metadata": {
            "tags": []
          },
          "execution_count": 6
        }
      ]
    },
    {
      "cell_type": "markdown",
      "metadata": {
        "id": "OW7H2ZH2K4V8",
        "colab_type": "text"
      },
      "source": [
        "This is a huge number of columns, Most of them may be useless for our target variable, \n",
        "\n",
        "We have been warned by pandas that Column number **746** and Column number Column number **835** has mixed dtypes. We should be wary of them."
      ]
    },
    {
      "cell_type": "code",
      "metadata": {
        "id": "WSNemwQwLRig",
        "colab_type": "code",
        "outputId": "f63eab45-6b41-4a95-e533-01ec2523bf9f",
        "colab": {
          "base_uri": "https://localhost:8080/",
          "height": 322
        }
      },
      "source": [
        "train_data.dtypes.value_counts().plot.bar(title='Data type distribution')"
      ],
      "execution_count": 0,
      "outputs": [
        {
          "output_type": "execute_result",
          "data": {
            "text/plain": [
              "<matplotlib.axes._subplots.AxesSubplot at 0x7f9a8e11b320>"
            ]
          },
          "metadata": {
            "tags": []
          },
          "execution_count": 7
        },
        {
          "output_type": "display_data",
          "data": {
            "image/png": "[encoded data removed]",
            "text/plain": [
              "<matplotlib.figure.Figure at 0x7f9a8e0506d8>"
            ]
          },
          "metadata": {
            "tags": []
          }
        }
      ]
    },
    {
      "cell_type": "markdown",
      "metadata": {
        "id": "fWxxBbe4MSlg",
        "colab_type": "text"
      },
      "source": [
        "Let's check the object type columns since that is quite low in the dataset"
      ]
    },
    {
      "cell_type": "code",
      "metadata": {
        "id": "5RitfDKPNJw3",
        "colab_type": "code",
        "outputId": "b1d5559c-6aa0-4853-b8e9-559f479bf39f",
        "colab": {
          "base_uri": "https://localhost:8080/",
          "height": 191
        }
      },
      "source": [
        "object_cols = train_data.select_dtypes(['object'])\n",
        "object_cols.head()"
      ],
      "execution_count": 0,
      "outputs": [
        {
          "output_type": "execute_result",
          "data": {
            "text/html": [
              "<div>\n",
              "<style scoped>\n",
              "    .dataframe tbody tr th:only-of-type {\n",
              "        vertical-align: middle;\n",
              "    }\n",
              "\n",
              "    .dataframe tbody tr th {\n",
              "        vertical-align: top;\n",
              "    }\n",
              "\n",
              "    .dataframe thead th {\n",
              "        text-align: right;\n",
              "    }\n",
              "</style>\n",
              "<table border=\"1\" class=\"dataframe\">\n",
              "  <thead>\n",
              "    <tr style=\"text-align: right;\">\n",
              "      <th></th>\n",
              "      <th>Col1</th>\n",
              "      <th>Col747</th>\n",
              "      <th>Col836</th>\n",
              "    </tr>\n",
              "  </thead>\n",
              "  <tbody>\n",
              "    <tr>\n",
              "      <th>0</th>\n",
              "      <td>RIGHGSN</td>\n",
              "      <td>NaN</td>\n",
              "      <td>NaN</td>\n",
              "    </tr>\n",
              "    <tr>\n",
              "      <th>1</th>\n",
              "      <td>RIMHI5ZGP</td>\n",
              "      <td>NaN</td>\n",
              "      <td>NaN</td>\n",
              "    </tr>\n",
              "    <tr>\n",
              "      <th>2</th>\n",
              "      <td>RIHOG1SZU</td>\n",
              "      <td>NaN</td>\n",
              "      <td>NaN</td>\n",
              "    </tr>\n",
              "    <tr>\n",
              "      <th>3</th>\n",
              "      <td>RIHOLMQWU</td>\n",
              "      <td>NaN</td>\n",
              "      <td>NaN</td>\n",
              "    </tr>\n",
              "    <tr>\n",
              "      <th>4</th>\n",
              "      <td>RIHO584ET</td>\n",
              "      <td>NaN</td>\n",
              "      <td>NaN</td>\n",
              "    </tr>\n",
              "  </tbody>\n",
              "</table>\n",
              "</div>"
            ],
            "text/plain": [
              "        Col1 Col747 Col836\n",
              "0    RIGHGSN    NaN    NaN\n",
              "1  RIMHI5ZGP    NaN    NaN\n",
              "2  RIHOG1SZU    NaN    NaN\n",
              "3  RIHOLMQWU    NaN    NaN\n",
              "4  RIHO584ET    NaN    NaN"
            ]
          },
          "metadata": {
            "tags": []
          },
          "execution_count": 8
        }
      ]
    },
    {
      "cell_type": "markdown",
      "metadata": {
        "id": "2AA5Oh3gxXpu",
        "colab_type": "text"
      },
      "source": [
        "### Data Cleaning"
      ]
    },
    {
      "cell_type": "markdown",
      "metadata": {
        "id": "fNnS_s_qNTYn",
        "colab_type": "text"
      },
      "source": [
        "#### Let's check the number of nan values"
      ]
    },
    {
      "cell_type": "code",
      "metadata": {
        "id": "aU_5CdmgNkj0",
        "colab_type": "code",
        "outputId": "a8e85e60-abe2-41e2-cd5a-4db6a7ab0013",
        "colab": {
          "base_uri": "https://localhost:8080/",
          "height": 147
        }
      },
      "source": [
        "object_cols.info()"
      ],
      "execution_count": 0,
      "outputs": [
        {
          "output_type": "stream",
          "text": [
            "<class 'pandas.core.frame.DataFrame'>\n",
            "RangeIndex: 17521 entries, 0 to 17520\n",
            "Data columns (total 3 columns):\n",
            "Col1      17521 non-null object\n",
            "Col747    626 non-null object\n",
            "Col836    624 non-null object\n",
            "dtypes: object(3)\n",
            "memory usage: 410.7+ KB\n"
          ],
          "name": "stdout"
        }
      ]
    },
    {
      "cell_type": "code",
      "metadata": {
        "id": "G-AFZ0ZTXsdh",
        "colab_type": "code",
        "outputId": "e8cff183-8c19-4b62-88fa-89b26f02d9b4",
        "colab": {
          "base_uri": "https://localhost:8080/",
          "height": 33
        }
      },
      "source": [
        "pct_nonnan_col747 = (626/train_data.shape[0])*100\n",
        "pct_nonnan_col836 = (624/train_data.shape[0])*100\n",
        "print(f\"% of non NAN values in the columns is Col747: {pct_nonnan_col747:.5f}% and Col836: {pct_nonnan_col836:.5f}%\")"
      ],
      "execution_count": 0,
      "outputs": [
        {
          "output_type": "stream",
          "text": [
            "% of non NAN values in the columns is Col747: 3.57286% and Col836: 3.56144%\n"
          ],
          "name": "stdout"
        }
      ]
    },
    {
      "cell_type": "markdown",
      "metadata": {
        "id": "f-UnQ4hjNmpz",
        "colab_type": "text"
      },
      "source": [
        "Ignoring **Col1** since it is an ID column and highly unlikely to have any information, we can see that it has too many **NaN** values, let's check the values present in the columns"
      ]
    },
    {
      "cell_type": "code",
      "metadata": {
        "id": "eQ-erNxJOOIW",
        "colab_type": "code",
        "outputId": "3f9e5d85-6013-485f-a833-d4a5b96b6e14",
        "colab": {
          "base_uri": "https://localhost:8080/",
          "height": 131
        }
      },
      "source": [
        "object_cols.loc[:, 'Col747'].value_counts()"
      ],
      "execution_count": 0,
      "outputs": [
        {
          "output_type": "execute_result",
          "data": {
            "text/plain": [
              "0      443\n",
              "-      133\n",
              "0.0     46\n",
              "1        2\n",
              "3        1\n",
              "5.0      1\n",
              "Name: Col747, dtype: int64"
            ]
          },
          "metadata": {
            "tags": []
          },
          "execution_count": 11
        }
      ]
    },
    {
      "cell_type": "code",
      "metadata": {
        "id": "2poqX7IvOXym",
        "colab_type": "code",
        "outputId": "1b928113-722e-4f19-b7f4-1249e12ab602",
        "colab": {
          "base_uri": "https://localhost:8080/",
          "height": 98
        }
      },
      "source": [
        "object_cols.loc[:, 'Col836'].value_counts()"
      ],
      "execution_count": 0,
      "outputs": [
        {
          "output_type": "execute_result",
          "data": {
            "text/plain": [
              "0      438\n",
              "-      144\n",
              "0.0     41\n",
              "5        1\n",
              "Name: Col836, dtype: int64"
            ]
          },
          "metadata": {
            "tags": []
          },
          "execution_count": 12
        }
      ]
    },
    {
      "cell_type": "markdown",
      "metadata": {
        "id": "otNHv5nAOhH1",
        "colab_type": "text"
      },
      "source": [
        "Assuming that the columns represent some flag, there are barely enough number of values and the **-** hyphen present should also be a **NaN** value, which further increases the **NaN** values here. So these features can be considered **useless**."
      ]
    },
    {
      "cell_type": "code",
      "metadata": {
        "id": "dYrMWjM6aKDk",
        "colab_type": "code",
        "colab": {}
      },
      "source": [
        "# Track unusable feature columns\n",
        "unusable_columns = [ 'Col1',    # ID column\n",
        "                     'Col747',  # Too many missing values\n",
        "                     'Col836'   # Too many missing values\n",
        "                     ]"
      ],
      "execution_count": 0,
      "outputs": []
    },
    {
      "cell_type": "markdown",
      "metadata": {
        "id": "4j6ZgF4iamCd",
        "colab_type": "text"
      },
      "source": [
        "#### Check NaN values in full dataset"
      ]
    },
    {
      "cell_type": "markdown",
      "metadata": {
        "id": "Eo1gd04edEa5",
        "colab_type": "text"
      },
      "source": [
        "It is hard to **visualize** and **explore** when we have **2395** columns, so we should focus on **filtering** the **features** that are not useful by statistical methods.\n",
        "\n",
        "One method is to filter features by the number of **null/NaN** values in them. Let's \n",
        "calculate them."
      ]
    },
    {
      "cell_type": "code",
      "metadata": {
        "id": "87IUuYjPMMoA",
        "colab_type": "code",
        "colab": {}
      },
      "source": [
        "from feature_selector import FeatureSelector\n",
        "fs = FeatureSelector(data=train_data.drop(['Col1', 'Col2'], axis=1), labels=train_data['Col2'])"
      ],
      "execution_count": 0,
      "outputs": []
    },
    {
      "cell_type": "markdown",
      "metadata": {
        "id": "K2uvpardgNv8",
        "colab_type": "text"
      },
      "source": [
        "#### Find number of features with too many missing/NaN values"
      ]
    },
    {
      "cell_type": "code",
      "metadata": {
        "id": "--Rsu99JOTJN",
        "colab_type": "code",
        "outputId": "c2e7175b-aaef-4b5b-8d33-212c6eca3072",
        "colab": {
          "base_uri": "https://localhost:8080/",
          "height": 50
        }
      },
      "source": [
        "fs.identify_missing(missing_threshold=0.75)"
      ],
      "execution_count": 0,
      "outputs": [
        {
          "output_type": "stream",
          "text": [
            "159 features with greater than 0.75 missing values.\n",
            "\n"
          ],
          "name": "stdout"
        }
      ]
    },
    {
      "cell_type": "code",
      "metadata": {
        "id": "Xk6Ac-1AOpBE",
        "colab_type": "code",
        "outputId": "773ea927-a4e7-4285-b026-3d968d841858",
        "colab": {
          "base_uri": "https://localhost:8080/",
          "height": 180
        }
      },
      "source": [
        "fs.ops['missing'][:10]"
      ],
      "execution_count": 0,
      "outputs": [
        {
          "output_type": "execute_result",
          "data": {
            "text/plain": [
              "['Col19',\n",
              " 'Col20',\n",
              " 'Col37',\n",
              " 'Col38',\n",
              " 'Col39',\n",
              " 'Col40',\n",
              " 'Col41',\n",
              " 'Col138',\n",
              " 'Col139',\n",
              " 'Col140']"
            ]
          },
          "metadata": {
            "tags": []
          },
          "execution_count": 25
        }
      ]
    },
    {
      "cell_type": "code",
      "metadata": {
        "id": "UQszWDt9Ogbh",
        "colab_type": "code",
        "outputId": "949eb16a-fcdd-446d-c5d2-ea47db3a7a0e",
        "colab": {
          "base_uri": "https://localhost:8080/",
          "height": 480
        }
      },
      "source": [
        "fs.plot_missing()"
      ],
      "execution_count": 0,
      "outputs": [
        {
          "output_type": "display_data",
          "data": {
            "image/png": "[encoded data removed]",
            "text/plain": [
              "<matplotlib.figure.Figure at 0x7f9a7a332e80>"
            ]
          },
          "metadata": {
            "tags": []
          }
        }
      ]
    },
    {
      "cell_type": "markdown",
      "metadata": {
        "id": "TkINjiCrgbwy",
        "colab_type": "text"
      },
      "source": [
        "#### Identify values with only one unique value"
      ]
    },
    {
      "cell_type": "code",
      "metadata": {
        "id": "RY3kPCDQO58V",
        "colab_type": "code",
        "outputId": "6f56f5f8-423e-4faf-b356-3254aa0fc341",
        "colab": {
          "base_uri": "https://localhost:8080/",
          "height": 50
        }
      },
      "source": [
        "fs.identify_single_unique()"
      ],
      "execution_count": 0,
      "outputs": [
        {
          "output_type": "stream",
          "text": [
            "2 features with a single unique value.\n",
            "\n"
          ],
          "name": "stdout"
        }
      ]
    },
    {
      "cell_type": "code",
      "metadata": {
        "id": "ewPrvS-WPd-b",
        "colab_type": "code",
        "outputId": "e63ee5a0-866d-4279-fd04-d8a66f6304cf",
        "colab": {
          "base_uri": "https://localhost:8080/",
          "height": 33
        }
      },
      "source": [
        "fs.ops['single_unique']"
      ],
      "execution_count": 0,
      "outputs": [
        {
          "output_type": "execute_result",
          "data": {
            "text/plain": [
              "['Col724', 'Col813']"
            ]
          },
          "metadata": {
            "tags": []
          },
          "execution_count": 28
        }
      ]
    },
    {
      "cell_type": "markdown",
      "metadata": {
        "id": "TCldIUGfgnLZ",
        "colab_type": "text"
      },
      "source": [
        "#### Plot number of unique values in data"
      ]
    },
    {
      "cell_type": "code",
      "metadata": {
        "id": "MvsEwQMqPioC",
        "colab_type": "code",
        "outputId": "073d5b3b-b770-4d29-a2d9-9b792859b69c",
        "colab": {
          "base_uri": "https://localhost:8080/",
          "height": 480
        }
      },
      "source": [
        "fs.plot_unique()"
      ],
      "execution_count": 0,
      "outputs": [
        {
          "output_type": "display_data",
          "data": {
            "image/png": "[encoded data removed]",
            "text/plain": [
              "<matplotlib.figure.Figure at 0x7f9a7a332048>"
            ]
          },
          "metadata": {
            "tags": []
          }
        }
      ]
    },
    {
      "cell_type": "markdown",
      "metadata": {
        "id": "f1l9K4segwgN",
        "colab_type": "text"
      },
      "source": [
        "#### Identify Collinearity/Correlation between features"
      ]
    },
    {
      "cell_type": "code",
      "metadata": {
        "id": "yIQD5G2wMcHJ",
        "colab_type": "code",
        "outputId": "269e8863-29c8-4431-b3fc-11db6c7b9e79",
        "colab": {
          "base_uri": "https://localhost:8080/",
          "height": 50
        }
      },
      "source": [
        "fs.identify_collinear(correlation_threshold = 0.98)"
      ],
      "execution_count": 0,
      "outputs": [
        {
          "output_type": "stream",
          "text": [
            "1316 features with a correlation magnitude greater than 0.98.\n",
            "\n"
          ],
          "name": "stdout"
        }
      ]
    },
    {
      "cell_type": "code",
      "metadata": {
        "id": "-cxcjCZUZge3",
        "colab_type": "code",
        "outputId": "314d3854-d89d-4193-96d9-45ff0d495a58",
        "colab": {
          "base_uri": "https://localhost:8080/",
          "height": 180
        }
      },
      "source": [
        "fs.ops['collinear'][:10]"
      ],
      "execution_count": 0,
      "outputs": [
        {
          "output_type": "execute_result",
          "data": {
            "text/plain": [
              "['Col4',\n",
              " 'Col6',\n",
              " 'Col7',\n",
              " 'Col8',\n",
              " 'Col12',\n",
              " 'Col15',\n",
              " 'Col53',\n",
              " 'Col55',\n",
              " 'Col57',\n",
              " 'Col59']"
            ]
          },
          "metadata": {
            "tags": []
          },
          "execution_count": 31
        }
      ]
    },
    {
      "cell_type": "markdown",
      "metadata": {
        "id": "6sVPBddbg7Hy",
        "colab_type": "text"
      },
      "source": [
        "#### Check Top feature correlations"
      ]
    },
    {
      "cell_type": "code",
      "metadata": {
        "id": "-FMFlX4qZuZ5",
        "colab_type": "code",
        "outputId": "f4b29038-34e8-41a7-ed92-2a06669cbe90",
        "colab": {
          "base_uri": "https://localhost:8080/",
          "height": 191
        }
      },
      "source": [
        "fs.record_collinear.head()"
      ],
      "execution_count": 0,
      "outputs": [
        {
          "output_type": "execute_result",
          "data": {
            "text/html": [
              "<div>\n",
              "<style scoped>\n",
              "    .dataframe tbody tr th:only-of-type {\n",
              "        vertical-align: middle;\n",
              "    }\n",
              "\n",
              "    .dataframe tbody tr th {\n",
              "        vertical-align: top;\n",
              "    }\n",
              "\n",
              "    .dataframe thead th {\n",
              "        text-align: right;\n",
              "    }\n",
              "</style>\n",
              "<table border=\"1\" class=\"dataframe\">\n",
              "  <thead>\n",
              "    <tr style=\"text-align: right;\">\n",
              "      <th></th>\n",
              "      <th>drop_feature</th>\n",
              "      <th>corr_feature</th>\n",
              "      <th>corr_value</th>\n",
              "    </tr>\n",
              "  </thead>\n",
              "  <tbody>\n",
              "    <tr>\n",
              "      <th>0</th>\n",
              "      <td>Col4</td>\n",
              "      <td>Col3</td>\n",
              "      <td>0.982237</td>\n",
              "    </tr>\n",
              "    <tr>\n",
              "      <th>1</th>\n",
              "      <td>Col6</td>\n",
              "      <td>Col3</td>\n",
              "      <td>0.988359</td>\n",
              "    </tr>\n",
              "    <tr>\n",
              "      <th>2</th>\n",
              "      <td>Col6</td>\n",
              "      <td>Col4</td>\n",
              "      <td>0.993567</td>\n",
              "    </tr>\n",
              "    <tr>\n",
              "      <th>3</th>\n",
              "      <td>Col7</td>\n",
              "      <td>Col3</td>\n",
              "      <td>0.982670</td>\n",
              "    </tr>\n",
              "    <tr>\n",
              "      <th>4</th>\n",
              "      <td>Col7</td>\n",
              "      <td>Col4</td>\n",
              "      <td>0.994026</td>\n",
              "    </tr>\n",
              "  </tbody>\n",
              "</table>\n",
              "</div>"
            ],
            "text/plain": [
              "  drop_feature corr_feature  corr_value\n",
              "0         Col4         Col3    0.982237\n",
              "1         Col6         Col3    0.988359\n",
              "2         Col6         Col4    0.993567\n",
              "3         Col7         Col3    0.982670\n",
              "4         Col7         Col4    0.994026"
            ]
          },
          "metadata": {
            "tags": []
          },
          "execution_count": 33
        }
      ]
    },
    {
      "cell_type": "code",
      "metadata": {
        "id": "Z6VBpvp7adIx",
        "colab_type": "code",
        "outputId": "48206354-42da-4cc4-c509-15daea944f5b",
        "colab": {
          "base_uri": "https://localhost:8080/",
          "height": 50
        }
      },
      "source": [
        "len(fs.check_removal())"
      ],
      "execution_count": 0,
      "outputs": [
        {
          "output_type": "stream",
          "text": [
            "Total of 1394 features identified for removal\n"
          ],
          "name": "stdout"
        },
        {
          "output_type": "execute_result",
          "data": {
            "text/plain": [
              "1394"
            ]
          },
          "metadata": {
            "tags": []
          },
          "execution_count": 34
        }
      ]
    },
    {
      "cell_type": "markdown",
      "metadata": {
        "id": "_TipFEFVhCdo",
        "colab_type": "text"
      },
      "source": [
        "#### Run a machine learning model to find feature importances"
      ]
    },
    {
      "cell_type": "code",
      "metadata": {
        "id": "LsgwXLYBbENS",
        "colab_type": "code",
        "outputId": "481a1ebe-4892-4142-85ef-e199672a6709",
        "colab": {
          "base_uri": "https://localhost:8080/",
          "height": 1000
        }
      },
      "source": [
        "fs.identify_zero_importance(task='classification', eval_metric='auc', n_iterations=10, early_stopping=True)"
      ],
      "execution_count": 0,
      "outputs": [
        {
          "output_type": "stream",
          "text": [
            "Training Gradient Boosting Model\n",
            "\n",
            "Training Gradient Boosting Model\n",
            "\n",
            "Training until validation scores don't improve for 100 rounds.\n",
            "Training until validation scores don't improve for 100 rounds.\n",
            "Early stopping, best iteration is:\n",
            "[61]\tvalid_0's auc: 0.720428\n",
            "Early stopping, best iteration is:\n",
            "[61]\tvalid_0's auc: 0.720428\n",
            "Training until validation scores don't improve for 100 rounds.\n",
            "Training until validation scores don't improve for 100 rounds.\n",
            "Early stopping, best iteration is:\n",
            "[96]\tvalid_0's auc: 0.744503\n",
            "Early stopping, best iteration is:\n",
            "[96]\tvalid_0's auc: 0.744503\n",
            "Training until validation scores don't improve for 100 rounds.\n",
            "Training until validation scores don't improve for 100 rounds.\n",
            "Early stopping, best iteration is:\n",
            "[70]\tvalid_0's auc: 0.720064\n",
            "Early stopping, best iteration is:\n",
            "[70]\tvalid_0's auc: 0.720064\n",
            "Training until validation scores don't improve for 100 rounds.\n",
            "Training until validation scores don't improve for 100 rounds.\n",
            "Early stopping, best iteration is:\n",
            "[114]\tvalid_0's auc: 0.752742\n",
            "Early stopping, best iteration is:\n",
            "[114]\tvalid_0's auc: 0.752742\n",
            "Training until validation scores don't improve for 100 rounds.\n",
            "Training until validation scores don't improve for 100 rounds.\n",
            "Early stopping, best iteration is:\n",
            "[103]\tvalid_0's auc: 0.708359\n",
            "Early stopping, best iteration is:\n",
            "[103]\tvalid_0's auc: 0.708359\n",
            "Training until validation scores don't improve for 100 rounds.\n",
            "Training until validation scores don't improve for 100 rounds.\n",
            "Early stopping, best iteration is:\n",
            "[153]\tvalid_0's auc: 0.73259\n",
            "Early stopping, best iteration is:\n",
            "[153]\tvalid_0's auc: 0.73259\n",
            "Training until validation scores don't improve for 100 rounds.\n",
            "Training until validation scores don't improve for 100 rounds.\n",
            "Early stopping, best iteration is:\n",
            "[135]\tvalid_0's auc: 0.719987\n",
            "Early stopping, best iteration is:\n",
            "[135]\tvalid_0's auc: 0.719987\n",
            "Training until validation scores don't improve for 100 rounds.\n",
            "Training until validation scores don't improve for 100 rounds.\n",
            "Early stopping, best iteration is:\n",
            "[58]\tvalid_0's auc: 0.736796\n",
            "Early stopping, best iteration is:\n",
            "[58]\tvalid_0's auc: 0.736796\n",
            "Training until validation scores don't improve for 100 rounds.\n",
            "Training until validation scores don't improve for 100 rounds.\n",
            "Early stopping, best iteration is:\n",
            "[69]\tvalid_0's auc: 0.728517\n",
            "Early stopping, best iteration is:\n",
            "[69]\tvalid_0's auc: 0.728517\n",
            "Training until validation scores don't improve for 100 rounds.\n",
            "Training until validation scores don't improve for 100 rounds.\n",
            "Early stopping, best iteration is:\n",
            "[77]\tvalid_0's auc: 0.731993\n",
            "\n",
            "999 features with zero importance after one-hot encoding.\n",
            "\n",
            "Early stopping, best iteration is:\n",
            "[77]\tvalid_0's auc: 0.731993\n",
            "\n",
            "999 features with zero importance after one-hot encoding.\n",
            "\n"
          ],
          "name": "stdout"
        }
      ]
    },
    {
      "cell_type": "code",
      "metadata": {
        "id": "XUYIUb3AfT9Z",
        "colab_type": "code",
        "outputId": "3f117780-dcd2-47f1-f6be-612ecceabd00",
        "colab": {
          "base_uri": "https://localhost:8080/",
          "height": 50
        }
      },
      "source": [
        "one_hot_features = fs.one_hot_features\n",
        "base_features = fs.base_features\n",
        "print('There are %d original features' % len(base_features))\n",
        "print('There are %d one-hot features' % len(one_hot_features))"
      ],
      "execution_count": 0,
      "outputs": [
        {
          "output_type": "stream",
          "text": [
            "There are 2393 original features\n",
            "There are 10 one-hot features\n"
          ],
          "name": "stdout"
        }
      ]
    },
    {
      "cell_type": "code",
      "metadata": {
        "id": "HbRSTg-Rfnls",
        "colab_type": "code",
        "outputId": "927e45a5-f662-451f-c1cf-f0f4bd21a718",
        "colab": {
          "base_uri": "https://localhost:8080/",
          "height": 33
        }
      },
      "source": [
        "fs.ops['zero_importance'][:5]"
      ],
      "execution_count": 0,
      "outputs": [
        {
          "output_type": "execute_result",
          "data": {
            "text/plain": [
              "['Col1946', 'Col747_5.0', 'Col1955', 'Col1947', 'Col1952']"
            ]
          },
          "metadata": {
            "tags": []
          },
          "execution_count": 38
        }
      ]
    },
    {
      "cell_type": "code",
      "metadata": {
        "id": "bFtyvhj-fwhz",
        "colab_type": "code",
        "outputId": "a5173c07-e4ba-478e-c550-c76afc433a15",
        "colab": {
          "base_uri": "https://localhost:8080/",
          "height": 965
        }
      },
      "source": [
        "fs.plot_feature_importances(threshold = 0.99, plot_n = 12)"
      ],
      "execution_count": 0,
      "outputs": [
        {
          "output_type": "display_data",
          "data": {
            "image/png": "[encoded data removed]",
            "text/plain": [
              "<matplotlib.figure.Figure at 0x7f9a7a2c5860>"
            ]
          },
          "metadata": {
            "tags": []
          }
        },
        {
          "output_type": "display_data",
          "data": {
            "image/png": "[encoded data removed]",
            "text/plain": [
              "<matplotlib.figure.Figure at 0x7f9a790d6a58>"
            ]
          },
          "metadata": {
            "tags": []
          }
        },
        {
          "output_type": "stream",
          "text": [
            "1144 features required for 0.99 of cumulative importance\n"
          ],
          "name": "stdout"
        }
      ]
    },
    {
      "cell_type": "markdown",
      "metadata": {
        "id": "N4cfJ0lzhSmt",
        "colab_type": "text"
      },
      "source": [
        "So only **1144** features account for **99%** of feature importance in model."
      ]
    },
    {
      "cell_type": "code",
      "metadata": {
        "id": "6JNixr_Df2e0",
        "colab_type": "code",
        "outputId": "86f989b0-5e6b-4f62-f5ef-fccdc80a3cc7",
        "colab": {
          "base_uri": "https://localhost:8080/",
          "height": 335
        }
      },
      "source": [
        "fs.feature_importances.head(10)"
      ],
      "execution_count": 0,
      "outputs": [
        {
          "output_type": "execute_result",
          "data": {
            "text/html": [
              "<div>\n",
              "<style scoped>\n",
              "    .dataframe tbody tr th:only-of-type {\n",
              "        vertical-align: middle;\n",
              "    }\n",
              "\n",
              "    .dataframe tbody tr th {\n",
              "        vertical-align: top;\n",
              "    }\n",
              "\n",
              "    .dataframe thead th {\n",
              "        text-align: right;\n",
              "    }\n",
              "</style>\n",
              "<table border=\"1\" class=\"dataframe\">\n",
              "  <thead>\n",
              "    <tr style=\"text-align: right;\">\n",
              "      <th></th>\n",
              "      <th>feature</th>\n",
              "      <th>importance</th>\n",
              "      <th>normalized_importance</th>\n",
              "      <th>cumulative_importance</th>\n",
              "    </tr>\n",
              "  </thead>\n",
              "  <tbody>\n",
              "    <tr>\n",
              "      <th>0</th>\n",
              "      <td>Col177</td>\n",
              "      <td>38.2</td>\n",
              "      <td>0.013604</td>\n",
              "      <td>0.013604</td>\n",
              "    </tr>\n",
              "    <tr>\n",
              "      <th>1</th>\n",
              "      <td>Col875</td>\n",
              "      <td>35.3</td>\n",
              "      <td>0.012571</td>\n",
              "      <td>0.026175</td>\n",
              "    </tr>\n",
              "    <tr>\n",
              "      <th>2</th>\n",
              "      <td>Col636</td>\n",
              "      <td>34.2</td>\n",
              "      <td>0.012179</td>\n",
              "      <td>0.038355</td>\n",
              "    </tr>\n",
              "    <tr>\n",
              "      <th>3</th>\n",
              "      <td>Col933</td>\n",
              "      <td>33.8</td>\n",
              "      <td>0.012037</td>\n",
              "      <td>0.050392</td>\n",
              "    </tr>\n",
              "    <tr>\n",
              "      <th>4</th>\n",
              "      <td>Col877</td>\n",
              "      <td>32.2</td>\n",
              "      <td>0.011467</td>\n",
              "      <td>0.061859</td>\n",
              "    </tr>\n",
              "    <tr>\n",
              "      <th>5</th>\n",
              "      <td>Col874</td>\n",
              "      <td>26.2</td>\n",
              "      <td>0.009330</td>\n",
              "      <td>0.071189</td>\n",
              "    </tr>\n",
              "    <tr>\n",
              "      <th>6</th>\n",
              "      <td>Col37</td>\n",
              "      <td>19.5</td>\n",
              "      <td>0.006944</td>\n",
              "      <td>0.078134</td>\n",
              "    </tr>\n",
              "    <tr>\n",
              "      <th>7</th>\n",
              "      <td>Col18</td>\n",
              "      <td>19.1</td>\n",
              "      <td>0.006802</td>\n",
              "      <td>0.084936</td>\n",
              "    </tr>\n",
              "    <tr>\n",
              "      <th>8</th>\n",
              "      <td>Col681</td>\n",
              "      <td>18.5</td>\n",
              "      <td>0.006588</td>\n",
              "      <td>0.091524</td>\n",
              "    </tr>\n",
              "    <tr>\n",
              "      <th>9</th>\n",
              "      <td>Col614</td>\n",
              "      <td>18.2</td>\n",
              "      <td>0.006481</td>\n",
              "      <td>0.098006</td>\n",
              "    </tr>\n",
              "  </tbody>\n",
              "</table>\n",
              "</div>"
            ],
            "text/plain": [
              "  feature          ...            cumulative_importance\n",
              "0  Col177          ...                         0.013604\n",
              "1  Col875          ...                         0.026175\n",
              "2  Col636          ...                         0.038355\n",
              "3  Col933          ...                         0.050392\n",
              "4  Col877          ...                         0.061859\n",
              "5  Col874          ...                         0.071189\n",
              "6   Col37          ...                         0.078134\n",
              "7   Col18          ...                         0.084936\n",
              "8  Col681          ...                         0.091524\n",
              "9  Col614          ...                         0.098006\n",
              "\n",
              "[10 rows x 4 columns]"
            ]
          },
          "metadata": {
            "tags": []
          },
          "execution_count": 40
        }
      ]
    },
    {
      "cell_type": "code",
      "metadata": {
        "id": "sXWGE30_f661",
        "colab_type": "code",
        "outputId": "53dd8140-b234-4dbe-975a-cbbaceae20aa",
        "colab": {
          "base_uri": "https://localhost:8080/",
          "height": 66
        }
      },
      "source": [
        "fs.identify_low_importance(cumulative_importance = 0.99)"
      ],
      "execution_count": 0,
      "outputs": [
        {
          "output_type": "stream",
          "text": [
            "1143 features required for cumulative importance of 0.99 after one hot encoding.\n",
            "1258 features do not contribute to cumulative importance of 0.99.\n",
            "\n"
          ],
          "name": "stdout"
        }
      ]
    },
    {
      "cell_type": "markdown",
      "metadata": {
        "id": "W9o1Fk_zhwun",
        "colab_type": "text"
      },
      "source": [
        "#### Check features chosen for removal"
      ]
    },
    {
      "cell_type": "code",
      "metadata": {
        "colab_type": "code",
        "outputId": "aa0ae53c-907a-47dc-a587-b1e359031a32",
        "id": "QwpGIGP-i-Af",
        "colab": {
          "base_uri": "https://localhost:8080/",
          "height": 50
        }
      },
      "source": [
        "useless_features = fs.check_removal(keep_one_hot=False)"
      ],
      "execution_count": 0,
      "outputs": [
        {
          "output_type": "stream",
          "text": [
            "Total of 1718 features identified for removal\n",
            "0 additional one-hot features can be removed\n"
          ],
          "name": "stdout"
        }
      ]
    },
    {
      "cell_type": "markdown",
      "metadata": {
        "id": "bQsXTcWjjlf0",
        "colab_type": "text"
      },
      "source": [
        "### Conclusion"
      ]
    },
    {
      "cell_type": "markdown",
      "metadata": {
        "id": "XpyB6B4oi-k_",
        "colab_type": "text"
      },
      "source": [
        "So we have selected **1718** features excluding the ID column to be useless, so now we are down to only **677** to predict with. Let's save those feature names."
      ]
    },
    {
      "cell_type": "code",
      "metadata": {
        "id": "x5g1SazHj62v",
        "colab_type": "code",
        "outputId": "0a0ab8cb-d29b-4e75-f6d0-9fb11f90224e",
        "colab": {
          "base_uri": "https://localhost:8080/",
          "height": 33
        }
      },
      "source": [
        "'Col1' in useless_features"
      ],
      "execution_count": 0,
      "outputs": [
        {
          "output_type": "execute_result",
          "data": {
            "text/plain": [
              "False"
            ]
          },
          "metadata": {
            "tags": []
          },
          "execution_count": 50
        }
      ]
    },
    {
      "cell_type": "code",
      "metadata": {
        "id": "8AaAYzrljPja",
        "colab_type": "code",
        "colab": {}
      },
      "source": [
        "useless_features.append('Col1')"
      ],
      "execution_count": 0,
      "outputs": []
    },
    {
      "cell_type": "code",
      "metadata": {
        "id": "zq32C5Tqjv-u",
        "colab_type": "code",
        "colab": {}
      },
      "source": [
        "import pickle\n",
        "with open('useless_features', 'wb') as f:\n",
        "    pickle.dump(useless_features, f)"
      ],
      "execution_count": 0,
      "outputs": []
    }
  ]
}